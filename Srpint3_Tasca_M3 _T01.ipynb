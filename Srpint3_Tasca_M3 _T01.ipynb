{
 "cells": [
  {
   "cell_type": "markdown",
   "id": "a8e2e8c1",
   "metadata": {},
   "source": [
    "## Exercici 1"
   ]
  },
  {
   "cell_type": "markdown",
   "id": "d6451825",
   "metadata": {},
   "source": [
    "Carregar “data” i \"target\" del conjunt de dades, i visualitza els 10 primers registres de cadascun."
   ]
  },
  {
   "cell_type": "code",
   "execution_count": 2,
   "id": "9f304a01",
   "metadata": {},
   "outputs": [],
   "source": [
    "from sklearn.datasets import load_iris"
   ]
  },
  {
   "cell_type": "code",
   "execution_count": 3,
   "id": "2c55d7dd",
   "metadata": {},
   "outputs": [
    {
     "name": "stdout",
     "output_type": "stream",
     "text": [
      "[[5.1 3.5 1.4 0.2]\n",
      " [4.9 3.  1.4 0.2]\n",
      " [4.7 3.2 1.3 0.2]\n",
      " [4.6 3.1 1.5 0.2]\n",
      " [5.  3.6 1.4 0.2]\n",
      " [5.4 3.9 1.7 0.4]\n",
      " [4.6 3.4 1.4 0.3]\n",
      " [5.  3.4 1.5 0.2]\n",
      " [4.4 2.9 1.4 0.2]\n",
      " [4.9 3.1 1.5 0.1]]\n",
      "[0 0 0 0 0 0 0 0 0 0]\n"
     ]
    }
   ],
   "source": [
    "#defino mi dataframe\n",
    "iris = load_iris()\n",
    "\n",
    "# obtengo la data y el target del dataframe iris\n",
    "data = iris.data\n",
    "target = iris.target\n",
    "\n",
    "# Mostrar los 10 primeros registros del conjunto de datos de data y target\n",
    "print(data[:10])\n",
    "print(target[:10])"
   ]
  },
  {
   "cell_type": "markdown",
   "id": "29391c98",
   "metadata": {},
   "source": [
    "## Exercici 2"
   ]
  },
  {
   "cell_type": "markdown",
   "id": "24e1d04b",
   "metadata": {},
   "source": [
    "Concatena “data” i “target” en un nou array. Mostra els 5 primers registres.\n",
    "\n"
   ]
  },
  {
   "cell_type": "code",
   "execution_count": 4,
   "id": "a86c181e",
   "metadata": {},
   "outputs": [
    {
     "name": "stdout",
     "output_type": "stream",
     "text": [
      "[[5.1 3.5 1.4 0.2 0. ]\n",
      " [4.9 3.  1.4 0.2 0. ]\n",
      " [4.7 3.2 1.3 0.2 0. ]\n",
      " [4.6 3.1 1.5 0.2 0. ]\n",
      " [5.  3.6 1.4 0.2 0. ]]\n"
     ]
    }
   ],
   "source": [
    "# subimos la libreria Numpy para poder crear la array\n",
    "import numpy as np\n",
    "\n",
    "# Concatenar data y target en un nuevo array (np.column_stack) lo que hace es concatenar y añadirte una columna más \n",
    "concatenar_array = np.column_stack((data, target))\n",
    "\n",
    "# Mostrar los 5 primeros registros del nuevo array\n",
    "print(concatenar_array[:5])"
   ]
  },
  {
   "cell_type": "markdown",
   "id": "442f804b",
   "metadata": {},
   "source": [
    "## Exercici 3"
   ]
  },
  {
   "cell_type": "markdown",
   "id": "05a9542d",
   "metadata": {},
   "source": [
    "Calcula la mitjana i desviació estàndard de la longitud del sèpal (\"sepal length (cm)\") i la longitud del pètal (\"petal length (cm)\"). Mostra els resultats amb dos decimals."
   ]
  },
  {
   "cell_type": "code",
   "execution_count": 5,
   "id": "35b0f697",
   "metadata": {},
   "outputs": [
    {
     "name": "stdout",
     "output_type": "stream",
     "text": [
      "Longitud del sépalo - Media: 5.84, Desviación Estándar: 0.83\n",
      "Longitud del pétalo - Media: 3.76, Desviación Estándar: 1.76\n"
     ]
    }
   ],
   "source": [
    "#como ya tenemos importada la librería numpy continuamos con los siguientes pasos:\n",
    "\n",
    "# Obtenemos las columnas de longitud del sépalo y longitud del pétalo\n",
    "sepal_length = data[:, 0]  # Índice 0 corresponde a \"sepal length (cm)\",esta función nos dirigimos al ídice.\n",
    "petal_length = data[:, 2]  # Índice 2 corresponde a \"petal length (cm)\",esta función nos dirigimos al ídice.\n",
    "\n",
    "# Calcular la media y la desviación estándar\n",
    "sepal_length_mean = np.mean(sepal_length)\n",
    "sepal_length_std = np.std(sepal_length)\n",
    "petal_length_mean = np.mean(petal_length)\n",
    "petal_length_std = np.std(petal_length)\n",
    "\n",
    "# Mostrar los resultados con dos decimales utilizamos la función .2f\n",
    "print(f\"Longitud del sépalo - Media: {sepal_length_mean:.2f}, Desviación Estándar: {sepal_length_std:.2f}\")\n",
    "print(f\"Longitud del pétalo - Media: {petal_length_mean:.2f}, Desviación Estándar: {petal_length_std:.2f}\")"
   ]
  },
  {
   "cell_type": "markdown",
   "id": "c47b6b64",
   "metadata": {},
   "source": [
    "## Exercici 4"
   ]
  },
  {
   "cell_type": "markdown",
   "id": "fd0ce5c6",
   "metadata": {},
   "source": [
    "Selecciona una mostra aleatòria de 20 registres del conjunt que has obtingut en l'exercici anterior."
   ]
  },
  {
   "cell_type": "markdown",
   "id": "591f64d7",
   "metadata": {},
   "source": [
    "Como ya tenemos las columnas del ejercicio anterior, a continuación vamos generar un \n",
    "índice aleatorio de 20 registros utilizando np.random.choice y luego seleccionamos los \n",
    "registros correspondientes de las columnas de longitud del sépalo y longitud del pétalo. \n",
    "Esto nos dará una muestra aleatoria de 20 registros de ambas características."
   ]
  },
  {
   "cell_type": "code",
   "execution_count": 6,
   "id": "75e866e1",
   "metadata": {},
   "outputs": [
    {
     "name": "stdout",
     "output_type": "stream",
     "text": [
      "Muestra aleatoria de 20 registros de longitud del sépalo: [6.1 5.  5.4 4.8 5.5 6.3 5.5 5.9 6.2 5.5 7.2 6.3 6.3 6.3 6.4 4.9 4.9 5.1\n",
      " 4.9 6.9]\n",
      "\n",
      "Muestra aleatoria de 20 registros de longitud del pétalo: [5.6 3.5 1.3 1.9 3.8 6.  1.3 4.2 4.8 4.  6.1 4.7 4.9 5.6 5.6 1.5 1.4 1.5\n",
      " 4.5 4.9]\n"
     ]
    }
   ],
   "source": [
    "# primero creamos un índice aleatorio de 20 registros con la función np.random.\n",
    "random_indices = np.random.choice(len(data), 20, replace=False)\n",
    "\n",
    "# Seleccionar los 20 registros aleatorios de las columnas de longitud del sépalo y longitud del pétalo, \n",
    "#con la función anteriormente creada\n",
    "random_sepal_length = sepal_length[random_indices]\n",
    "random_petal_length = petal_length[random_indices]\n",
    "\n",
    "# Mostrar los registros aleatorios\n",
    "print(\"Muestra aleatoria de 20 registros de longitud del sépalo:\",random_sepal_length)\n",
    "print(\"\\nMuestra aleatoria de 20 registros de longitud del pétalo:\",random_petal_length)"
   ]
  },
  {
   "cell_type": "markdown",
   "id": "9dd7baf5",
   "metadata": {},
   "source": [
    "## Exercici 5"
   ]
  },
  {
   "cell_type": "markdown",
   "id": "329d7a2d",
   "metadata": {},
   "source": [
    "Crea una matriu que mostri: \n",
    "\n",
    "• La mitjana de cada característica per espècie. \n",
    "\n",
    "• La desviació estàndard de cada característica per espècie."
   ]
  },
  {
   "cell_type": "code",
   "execution_count": 7,
   "id": "baa93755",
   "metadata": {},
   "outputs": [
    {
     "name": "stdout",
     "output_type": "stream",
     "text": [
      "Setosa - Media Sépalo     : 5.01\n",
      "Setosa - Desviación Sépalo: 0.35\n",
      "Versicolor - Media Sépalo     : 5.94\n",
      "Versicolor - Desviación Sépalo: 0.51\n",
      "Virginica - Media Sépalo     : 6.59\n",
      "Virginica - Desviación Sépalo: 0.63\n"
     ]
    }
   ],
   "source": [
    "#Creamos una matriz de ceros de dimensiones 3x2 para almacenar los resultados. \n",
    "\n",
    "result_matrix = np.zeros((3, 2)) #((3,2)) significa que tendrá tres filas para las tres especies (Setosa, Versicolor y Virginica) y \n",
    "#dos columnas para la media y la desviación estándar.\n",
    "\n",
    "# Calcular la media y la desviación estándar de cada característica por especie\n",
    "\n",
    "\n",
    "for species in np.unique(target): #Utilizamos un bucle for para recorrer cada especie (0, 1 y 2).\n",
    "#Para cada especie, seleccionamos los datos de longitud(length) del sépalo y del pétalo correspondientes \n",
    "#utilizando la indexación booleana.\n",
    "    species_data_sepal = sepal_length[target == species]\n",
    "    species_data_petal = petal_length[target == species]\n",
    "    \n",
    "#Calculamos la media (np.mean) y la desviación estándard (np.std) de ambas características para cada especie.    \n",
    "    mean_sepal = np.mean(species_data_sepal)\n",
    "    std_sepal = np.std(species_data_sepal)\n",
    "    \n",
    "    mean_petal = np.mean(species_data_petal)\n",
    "    std_petal = np.std(species_data_petal)\n",
    "    \n",
    "#Almacenamos los resultados en la matriz (result_matrix) en las filas correspondientes.    \n",
    "    result_matrix[species, 0] = mean_sepal\n",
    "    result_matrix[species, 1] = std_sepal\n",
    "\n",
    "# Etiquetas para las filas y las columnas de la matriz, o si no, no se entenderá.\n",
    "species_labels = ['Setosa', 'Versicolor', 'Virginica']\n",
    "feature_labels = ['Media Sépalo', 'Desviación Sépalo']\n",
    "\n",
    "#Esto proporciona la media y la desviación estándar de la longitud del sépalo para cada especie. \n",
    "\n",
    "# Mostramos la matriz con etiquetas\n",
    "for i in range(3): \n",
    "    for j in range(2): #Usamos bucles (for) anidados para recorrer las filas y las columnas de la matriz result_matrix.\n",
    "        print(f\"{species_labels[i]} - {feature_labels[j]:<17}: {result_matrix[i, j]:.2f}\") \n",
    "        \n",
    "#Imprimimos los resultados con formato [i], mostrando la especie, la característica y el valor con dos decimales(.2f)."
   ]
  },
  {
   "cell_type": "markdown",
   "id": "d2e83125",
   "metadata": {},
   "source": [
    "## Exercici 6"
   ]
  },
  {
   "cell_type": "markdown",
   "id": "e6831f59",
   "metadata": {},
   "source": [
    "• Calcula la quantitat de mostres per espècie.\n",
    "\n",
    "• Troba l'espècie amb el valor màxim mitjana de la variable \"sepal length (cm)\""
   ]
  },
  {
   "cell_type": "code",
   "execution_count": 10,
   "id": "94c382b3",
   "metadata": {},
   "outputs": [
    {
     "name": "stdout",
     "output_type": "stream",
     "text": [
      "Setosa: 50 muestras\n",
      "Versicolor: 50 muestras\n",
      "Virginica: 50 muestras\n",
      "\n",
      "La especie con el valor máximo de media en \"sepal length (cm)\" es Virginica con una media de 6.59 cm.\n"
     ]
    }
   ],
   "source": [
    "# Creamos una lista de nombres de especies para facilitar la visualización de los resultados.\n",
    "species_names = ['Setosa', 'Versicolor', 'Virginica']\n",
    "\n",
    "# Calcular la cantidad de muestras por especie\n",
    "#Calculamos la cantidad de muestras por especie (Setosa, Versicolor y Virginica).\n",
    "# np.sum(target == i)cuenta cuántas muestras tienen una etiqueta igual a (i) en el conjunto de datos.\n",
    "samples_per_species = [np.sum(target == i) for i in range(3)]\n",
    "\n",
    "# Mostrar la cantidad de muestras por especie\n",
    "for i, species in enumerate(species_names):\n",
    "    print(f'{species}: {samples_per_species[i]} muestras')\n",
    "\n",
    "# Calcular la especie con el valor máximo de media en \"sepal length (cm)\" \n",
    "#Utilizamos un bucle (for) y la función enumerate para recorrer la lista de nombres de especies y la lista de cantidades.\n",
    "#Mostramos la cantidad de muestras por especie junto con el nombre de la especie.\n",
    "\n",
    "sepal_length = data[:, 0]  # Índice 0 corresponde a \"sepal length (cm)\" Extraemos la longitud del sépalo del conjunto de datos.\n",
    "mean_sepal_length_per_species = [np.mean(sepal_length[target == i]) for i in range(3)] #Calculamos la media de la longitud del sépalo para cada especie y almacenamos estos valores en mean_sepal_length_per_species.\n",
    "\n",
    "#Encontramos la especie con el valor máximo de media utilizando np.argmax y mostramos el resultado junto con su valor correspondiente.\n",
    "max_mean_sepal_length = np.max(mean_sepal_length_per_species)\n",
    "max_mean_species = species_names[np.argmax(mean_sepal_length_per_species)]\n",
    "\n",
    "print(f'\\nLa especie con el valor máximo de media en \"sepal length (cm)\" es {max_mean_species} con una media de {max_mean_sepal_length:.2f} cm.')\n"
   ]
  },
  {
   "cell_type": "markdown",
   "id": "8f1ef595",
   "metadata": {},
   "source": [
    "## Exercici 7"
   ]
  },
  {
   "cell_type": "markdown",
   "id": "09113c8a",
   "metadata": {},
   "source": [
    "• Calcula la matriu de correlació entre les variables.\n",
    "\n",
    "• Filtra els valors majors a la mitjana de la longitud dels pètals i mostra-ho. \n",
    "\n",
    "• Troba la mostra amb els pètals més grans."
   ]
  },
  {
   "cell_type": "code",
   "execution_count": 12,
   "id": "120ba863",
   "metadata": {},
   "outputs": [
    {
     "name": "stdout",
     "output_type": "stream",
     "text": [
      "Matriz de correlación:\n",
      "                   sepal length (cm)  sepal width (cm)  petal length (cm)  \\\n",
      "sepal length (cm)           1.000000         -0.117570           0.871754   \n",
      "sepal width (cm)           -0.117570          1.000000          -0.428440   \n",
      "petal length (cm)           0.871754         -0.428440           1.000000   \n",
      "petal width (cm)            0.817941         -0.366126           0.962865   \n",
      "\n",
      "                   petal width (cm)  \n",
      "sepal length (cm)          0.817941  \n",
      "sepal width (cm)          -0.366126  \n",
      "petal length (cm)          0.962865  \n",
      "petal width (cm)           1.000000  \n",
      "\n",
      "Valores mayores a la media de la longitud de los pétalos:\n",
      "     sepal length (cm)  sepal width (cm)  petal length (cm)  petal width (cm)\n",
      "50                 7.0               3.2                4.7               1.4\n",
      "51                 6.4               3.2                4.5               1.5\n",
      "52                 6.9               3.1                4.9               1.5\n",
      "53                 5.5               2.3                4.0               1.3\n",
      "54                 6.5               2.8                4.6               1.5\n",
      "..                 ...               ...                ...               ...\n",
      "145                6.7               3.0                5.2               2.3\n",
      "146                6.3               2.5                5.0               1.9\n",
      "147                6.5               3.0                5.2               2.0\n",
      "148                6.2               3.4                5.4               2.3\n",
      "149                5.9               3.0                5.1               1.8\n",
      "\n",
      "[93 rows x 4 columns]\n",
      "\n",
      "Muestra con los pétalos más largos:\n",
      "     sepal length (cm)  sepal width (cm)  petal length (cm)  petal width (cm)\n",
      "118                7.7               2.6                6.9               2.3\n"
     ]
    }
   ],
   "source": [
    "import pandas as pd #importamos la biblioteca Pandas para cargar el conjunto de dats iris.\n",
    "\n",
    "# Cargamos el conjunto de datos Iris y creamos un DataFrame de Pandas para facilitar la manipulación de los datos\n",
    "df = pd.DataFrame(data, columns=iris.feature_names)\n",
    "\n",
    "# Calculamos la matriz de correlación de las características utilizando el método corr() de Pandas, \n",
    "# el cual calcula la correlación entre columnas numéricas de un conjunto de datos.\n",
    "correlation_matrix = df.corr()\n",
    "\n",
    "# Filtrar los valores mayores a la media de la longitud de los pétalos \n",
    "mean_petal_length = df['petal length (cm)'].mean()\n",
    "filtered_data = df[df['petal length (cm)'] > mean_petal_length]\n",
    "\n",
    "# Mostrar la matriz de correlación\n",
    "print(\"Matriz de correlación:\")\n",
    "print(correlation_matrix)\n",
    "\n",
    "# Mostrar los valores filtrados\n",
    "print(\"\\nValores mayores a la media de la longitud de los pétalos:\")\n",
    "print(filtered_data)\n",
    "\n",
    "# Encontramos la muestra con los pétalos más largos utilizando la función max() \n",
    "#de Pandas en la columna \"petal length (cm)\" y mostramos la muestra resultante.\n",
    "max_petal_length_sample = df[df['petal length (cm)'] == df['petal length (cm)'].max()]\n",
    "\n",
    "print(\"\\nMuestra con los pétalos más largos:\")\n",
    "print(max_petal_length_sample)"
   ]
  },
  {
   "cell_type": "markdown",
   "id": "942af268",
   "metadata": {},
   "source": [
    "## Exercici 8"
   ]
  },
  {
   "cell_type": "markdown",
   "id": "ea42b79b",
   "metadata": {},
   "source": [
    "Troba l'espècie amb la diferència més gran entre la longitud mitjana de sèpals i pètals."
   ]
  },
  {
   "cell_type": "code",
   "execution_count": 18,
   "id": "d5a4f586",
   "metadata": {},
   "outputs": [
    {
     "name": "stdout",
     "output_type": "stream",
     "text": [
      "Especie con la mayor diferencia: Setosa\n"
     ]
    }
   ],
   "source": [
    "#Utilizamos el conjunto de datos Iris previamente cargado y extraemos las longitudes de los sépalos\n",
    "#y los pétalos en las variables sepal_length y petal_length.\n",
    "\n",
    "# Calculamos la longitud promedio de los sépalos y los pétalos para cada especie. Utilizamos numpy\n",
    "sepal_length = data[:, 0]  # Índice 0 corresponde a \"sepal length (cm)\"\n",
    "petal_length = data[:, 2]  # Índice 2 corresponde a \"petal length (cm)\"\n",
    "\n",
    "\n",
    "#esta fórmula calcula la longitud promedio de los pétalos para cada una de las tres especies en el conjunto \n",
    "#de datos Iris, utilizando un bucle para iterar a través de las especies y calcular la media de las longitudes \n",
    "#de los pétalos correspondientes a cada especie.\n",
    "\n",
    "mean_sepal_length = [np.mean(sepal_length[target == i]) for i in range(3)] \n",
    "mean_petal_length = [np.mean(petal_length[target == i]) for i in range(3)]\n",
    "#np.mean estamos calculando la longitud promedio de los pétalos para una especie específica / \n",
    "#[np.mean(petal_length[target == i]) for i in range(3)] combina todo esto en un bucle, donde para cada valor de 'i' \n",
    "#en el rango de 0 a 2, calculamos la longitud promedio de los pétalos para la especie correspondiente. \n",
    "#El resultado es una lista de las longitudes promedio de los pétalos para las tres especies en el conjunto de datos Iris.\n",
    "\n",
    "\n",
    "# Calculamos la diferencia entre la longitud promedio de sépalos y pétalos\n",
    "differences = np.abs(np.array(mean_sepal_length) - np.array(mean_petal_length))\n",
    "# calcula la diferencia absoluta entre las medias de longitud del sépalo y del pétalo para cada especie en el conjunto de\n",
    "#datos Iris, y almacena esas diferencias en un arreglo NumPy llamado 'differences'.\n",
    "\n",
    "# Encontramos la especie con la mayor diferencia\n",
    "max_difference_species = np.argmax(differences)\n",
    "#se utiliza para identificar la especie en el conjunto de datos Iris que tiene la mayor diferencia entre las longitudes promedio\n",
    "#de los sépalos y los pétalos, y almacena el índice de esa especie en la variable max_difference_species.\n",
    "\n",
    "# Mostramos la especie con la mayor diferencia\n",
    "species_names = ['Setosa', 'Versicolor', 'Virginica']\n",
    "print(f'Especie con la mayor diferencia: {species_names[max_difference_species]}')\n"
   ]
  },
  {
   "cell_type": "code",
   "execution_count": null,
   "id": "bb9c2be7",
   "metadata": {},
   "outputs": [],
   "source": []
  }
 ],
 "metadata": {
  "kernelspec": {
   "display_name": "Python 3 (ipykernel)",
   "language": "python",
   "name": "python3"
  },
  "language_info": {
   "codemirror_mode": {
    "name": "ipython",
    "version": 3
   },
   "file_extension": ".py",
   "mimetype": "text/x-python",
   "name": "python",
   "nbconvert_exporter": "python",
   "pygments_lexer": "ipython3",
   "version": "3.11.5"
  }
 },
 "nbformat": 4,
 "nbformat_minor": 5
}
